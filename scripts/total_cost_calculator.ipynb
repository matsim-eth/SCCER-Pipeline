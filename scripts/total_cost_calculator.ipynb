{
 "cells": [
  {
   "cell_type": "code",
   "execution_count": 1,
   "metadata": {},
   "outputs": [],
   "source": [
    "import pandas as pd\n",
    "import numpy as np\n",
    "import matplotlib.pyplot as plt\n",
    "%matplotlib inline"
   ]
  },
  {
   "cell_type": "code",
   "execution_count": 2,
   "metadata": {},
   "outputs": [],
   "source": [
    "df = pd.read_csv(\"/home/ctchervenkov/Documents/projects/road_pricing/switzerland_10pct/emissionsPerPerson.csv\", sep=\";\")"
   ]
  },
  {
   "cell_type": "code",
   "execution_count": 3,
   "metadata": {},
   "outputs": [],
   "source": [
    "output_folder = \"/home/ctchervenkov/Documents/projects/road_pricing/plots/\""
   ]
  },
  {
   "cell_type": "code",
   "execution_count": 4,
   "metadata": {},
   "outputs": [
    {
     "name": "stdout",
     "output_type": "stream",
     "text": [
      "HEALTH COSTS\n",
      "Our Estimate: 295.0 M CHF / year\n",
      "ARE Estimate: 2039 M CHF / year\n"
     ]
    }
   ],
   "source": [
    "# HEALTH COSTS\n",
    "PM_g = df[\"PM\"].sum()\n",
    "PM_g_day = df[\"PM\"].sum() * 10\n",
    "PM_g_year = PM_g_day * 365\n",
    "PM_ton_year = PM_g_year / 1e6\n",
    "health_cost_per_ton_PM = (186000 + 260000)\n",
    "health_cost_scaling_factor = (2370/2115)\n",
    "health_cost_yearly = PM_ton_year * health_cost_per_ton_PM * health_cost_scaling_factor\n",
    "print(\"HEALTH COSTS\")\n",
    "print(\"Our Estimate:\",round(health_cost_yearly / 1e6),\"M CHF / year\")\n",
    "print(\"ARE Estimate:\",str(2039),\"M CHF / year\")"
   ]
  },
  {
   "cell_type": "code",
   "execution_count": 5,
   "metadata": {},
   "outputs": [
    {
     "name": "stderr",
     "output_type": "stream",
     "text": [
      "/home/ctchervenkov/.local/lib/python3.5/site-packages/pandas/core/computation/check.py:17: UserWarning: The installed version of numexpr 2.4.3 is not supported in pandas and will be not be used\n",
      "The minimum supported version is 2.4.6\n",
      "\n",
      "  ver=ver, min_ver=_MIN_NUMEXPR_VERSION), UserWarning)\n"
     ]
    },
    {
     "data": {
      "image/png": "[encoded data removed]",
      "text/plain": [
       "<matplotlib.figure.Figure at 0x7f75f260b2b0>"
      ]
     },
     "metadata": {},
     "output_type": "display_data"
    },
    {
     "name": "stdout",
     "output_type": "stream",
     "text": [
      "MEAN HEALTH COST: 0.237412911829\n"
     ]
    }
   ],
   "source": [
    "health_cost_per_person = df[\"PM\"] * health_cost_per_ton_PM * health_cost_scaling_factor / 1e6\n",
    "plt.hist(health_cost_per_person, bins=100)\n",
    "plt.xlim((0,3))\n",
    "plt.xlabel(\"CHF\")\n",
    "plt.title(\"Health cost distribution\")\n",
    "#plt.ylabel(\"Occurence\")\n",
    "plt.savefig(output_folder + \"health_costs.pdf\")\n",
    "plt.savefig(output_folder + \"health_costs.png\")\n",
    "plt.show()\n",
    "\n",
    "print(\"MEAN HEALTH COST:\", health_cost_per_person.mean())"
   ]
  },
  {
   "cell_type": "code",
   "execution_count": 6,
   "metadata": {},
   "outputs": [
    {
     "name": "stdout",
     "output_type": "stream",
     "text": [
      "CLIMATE COSTS\n",
      "Our Estimate: 1102.0 M CHF / year\n",
      "ARE Estimate: 1182 M CHF / year\n"
     ]
    }
   ],
   "source": [
    "# CLIMATE COSTS\n",
    "CO2_g = df[\"CO2(total)\"].sum()\n",
    "CO2_g_year = CO2_g * 10 * 365\n",
    "CO2_ton_year = CO2_g_year / 1e6\n",
    "climate_cost_per_ton_CO2 = 121.5\n",
    "climate_costs_yearly = CO2_ton_year * climate_cost_per_ton_CO2\n",
    "print(\"CLIMATE COSTS\")\n",
    "print(\"Our Estimate:\",round(climate_costs_yearly / 1e6),\"M CHF / year\")\n",
    "print(\"ARE Estimate:\",str(1182),\"M CHF / year\")"
   ]
  },
  {
   "cell_type": "code",
   "execution_count": 7,
   "metadata": {},
   "outputs": [
    {
     "data": {
      "image/png": "[encoded data removed]",
      "text/plain": [
       "<matplotlib.figure.Figure at 0x7f75f2afdda0>"
      ]
     },
     "metadata": {},
     "output_type": "display_data"
    },
    {
     "name": "stdout",
     "output_type": "stream",
     "text": [
      "MEAN CLIMATE COST: 0.886487574669\n"
     ]
    }
   ],
   "source": [
    "climate_cost_per_person = df[\"CO2(total)\"] * climate_cost_per_ton_CO2 / 1e6\n",
    "plt.hist(climate_cost_per_person, bins=100)\n",
    "plt.xlim((0,8))\n",
    "plt.xlabel(\"CHF\")\n",
    "plt.title(\"Climate cost distribution\")\n",
    "#plt.ylabel(\"Occurence\")\n",
    "plt.savefig(output_folder + \"climate_costs.pdf\")\n",
    "plt.savefig(output_folder + \"climate_costs.png\")\n",
    "plt.show()\n",
    "\n",
    "print(\"MEAN CLIMATE COST:\", climate_cost_per_person.mean())"
   ]
  },
  {
   "cell_type": "code",
   "execution_count": 8,
   "metadata": {},
   "outputs": [
    {
     "name": "stdout",
     "output_type": "stream",
     "text": [
      "DAMAGES TO BUILDINGS\n",
      "Our Estimate: 44.0 M CHF / year\n",
      "ARE Estimate: 154 M CHF / year\n"
     ]
    }
   ],
   "source": [
    "# DAMAGES TO BUILDINGS\n",
    "PM_g = df[\"PM\"].sum()\n",
    "PM_g_year = PM_g * 10 * 365\n",
    "PM_ton_year = PM_g_year / 1e6\n",
    "building_cost_per_ton = (45000 + 21000)\n",
    "building_scaling_factor = (100/88.3)\n",
    "building_cost_yearly = PM_ton_year * building_cost_per_ton * building_scaling_factor\n",
    "print(\"DAMAGES TO BUILDINGS\")\n",
    "print(\"Our Estimate:\",round(building_cost_yearly / 1e6),\"M CHF / year\")\n",
    "print(\"ARE Estimate:\",str(154),\"M CHF / year\")"
   ]
  },
  {
   "cell_type": "code",
   "execution_count": 9,
   "metadata": {},
   "outputs": [
    {
     "data": {
      "image/png": "[encoded data removed]",
      "text/plain": [
       "<matplotlib.figure.Figure at 0x7f75f0553780>"
      ]
     },
     "metadata": {},
     "output_type": "display_data"
    },
    {
     "name": "stdout",
     "output_type": "stream",
     "text": [
      "MEAN BUILDING COST: 0.0355070615971\n"
     ]
    }
   ],
   "source": [
    "building_cost_per_person = df[\"PM\"] * building_cost_per_ton * building_scaling_factor / 1e6\n",
    "plt.hist(building_cost_per_person, bins=100)\n",
    "plt.xlim((0,0.5))\n",
    "plt.xlabel(\"CHF\")\n",
    "plt.title(\"Building damage cost distribution\")\n",
    "#plt.ylabel(\"Occurence\")\n",
    "plt.savefig(output_folder + \"building_costs.pdf\")\n",
    "plt.savefig(output_folder + \"building_costs.png\")\n",
    "plt.show()\n",
    "\n",
    "print(\"MEAN BUILDING COST:\", building_cost_per_person.mean())"
   ]
  },
  {
   "cell_type": "code",
   "execution_count": 10,
   "metadata": {},
   "outputs": [
    {
     "name": "stdout",
     "output_type": "stream",
     "text": [
      "CROP LOSS & FOREST DAMAGES\n",
      "Our Estimate: 50.0 M CHF / year\n",
      "ARE Estimate: 70 M CHF / year\n"
     ]
    }
   ],
   "source": [
    "# CROP AND FOREST DAMAGES\n",
    "NOx_g = df[\"NOx\"].sum()\n",
    "NOx_year = NOx_g * 10 * 365\n",
    "NOx_ton_year = NOx_year / 1e6\n",
    "crop_loss_cost_per_ton = (3100)\n",
    "crop_loss_scale_factor = (102/100)\n",
    "crop_loss_yearly = NOx_ton_year * crop_loss_cost_per_ton * crop_loss_scale_factor \n",
    "print(\"CROP LOSS & FOREST DAMAGES\")\n",
    "print(\"Our Estimate:\",round(crop_loss_yearly / 1e6),\"M CHF / year\")\n",
    "print(\"ARE Estimate:\",str(36+34),\"M CHF / year\")"
   ]
  },
  {
   "cell_type": "code",
   "execution_count": 11,
   "metadata": {},
   "outputs": [
    {
     "data": {
      "image/png": "[encoded data removed]",
      "text/plain": [
       "<matplotlib.figure.Figure at 0x7f75efc97be0>"
      ]
     },
     "metadata": {},
     "output_type": "display_data"
    },
    {
     "name": "stdout",
     "output_type": "stream",
     "text": [
      "MEAN CROP COST: 0.0403335538939\n"
     ]
    }
   ],
   "source": [
    "crop_loss_per_person = df[\"NOx\"] * crop_loss_cost_per_ton * crop_loss_scale_factor / 1e6;\n",
    "plt.hist(crop_loss_per_person, bins=100)\n",
    "plt.xlim((0,0.5))\n",
    "plt.xlabel(\"CHF\")\n",
    "plt.title(\"Crop loss and forest damage cost distribution\")\n",
    "#plt.ylabel(\"Occurence\")\n",
    "plt.savefig(output_folder + \"crop_forest_costs.pdf\")\n",
    "plt.savefig(output_folder + \"crop_forest_costs.png\")\n",
    "plt.show()\n",
    "\n",
    "print(\"MEAN CROP COST:\", crop_loss_per_person.mean())"
   ]
  },
  {
   "cell_type": "code",
   "execution_count": 12,
   "metadata": {},
   "outputs": [
    {
     "name": "stdout",
     "output_type": "stream",
     "text": [
      "Our Estimate: 1491.0 M CHF / year\n",
      "ARE Estimate: 3445 M CHF / year\n"
     ]
    }
   ],
   "source": [
    "emission_cost_yearly = climate_costs_yearly + health_cost_yearly + building_cost_yearly + crop_loss_yearly\n",
    "are_emissions_cost_yearly = 1182 + 2039 + 154 + 36 + 34\n",
    "print(\"Our Estimate:\",round(emission_cost_yearly / 1e6),\"M CHF / year\")\n",
    "print(\"ARE Estimate:\",str(are_emissions_cost_yearly),\"M CHF / year\")"
   ]
  },
  {
   "cell_type": "code",
   "execution_count": 13,
   "metadata": {},
   "outputs": [
    {
     "data": {
      "image/png": "[encoded data removed]",
      "text/plain": [
       "<matplotlib.figure.Figure at 0x7f75f2710080>"
      ]
     },
     "metadata": {},
     "output_type": "display_data"
    },
    {
     "name": "stdout",
     "output_type": "stream",
     "text": [
      "MEAN EMISSION COST: 1.19974110199\n"
     ]
    }
   ],
   "source": [
    "emission_cost_per_person = climate_cost_per_person + health_cost_per_person + building_cost_per_person + crop_loss_per_person\n",
    "plt.hist(emission_cost_per_person, bins=100)\n",
    "plt.xlim((0,12))\n",
    "plt.xlabel(\"CHF\")\n",
    "plt.title(\"Emissions cost distribution\")\n",
    "#plt.ylabel(\"Occurence\")\n",
    "plt.savefig(output_folder + \"emission_costs.pdf\")\n",
    "plt.savefig(output_folder + \"emission_costs.png\")\n",
    "plt.show()\n",
    "\n",
    "print(\"MEAN EMISSION COST:\", emission_cost_per_person.mean())"
   ]
  },
  {
   "cell_type": "code",
   "execution_count": null,
   "metadata": {},
   "outputs": [],
   "source": []
  }
 ],
 "metadata": {
  "kernelspec": {
   "display_name": "Python 3",
   "language": "python",
   "name": "python3"
  },
  "language_info": {
   "codemirror_mode": {
    "name": "ipython",
    "version": 3
   },
   "file_extension": ".py",
   "mimetype": "text/x-python",
   "name": "python",
   "nbconvert_exporter": "python",
   "pygments_lexer": "ipython3",
   "version": "3.7.1"
  }
 },
 "nbformat": 4,
 "nbformat_minor": 2
}
